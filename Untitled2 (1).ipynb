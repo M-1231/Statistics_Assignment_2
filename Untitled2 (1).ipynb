{
 "cells": [
  {
   "cell_type": "code",
   "execution_count": null,
   "id": "9a116251-d0ab-4307-a009-712571ba7750",
   "metadata": {},
   "outputs": [],
   "source": [
    "\"\"\"Q.1\n",
    "The three measures of central tendency are:\n",
    "\n",
    "Mean: The mean is the average of a set of numbers. It is calculated by summing up all the numbers in the dataset and then dividing by the total number of values.\n",
    "\n",
    "Median: The median is the middle value in a dataset when the values are arranged in ascending or descending order. If the dataset has an odd number of values, the median is the middle value. If the dataset has an even number of values, the median is the average of the two middle values.\n",
    "\n",
    "Mode: The mode is the value that appears most frequently in a dataset. A dataset can have no mode (when all values occur with the same frequency), one mode (unimodal), or multiple modes (multimodal)."
   ]
  },
  {
   "cell_type": "code",
   "execution_count": null,
   "id": "5ab9f3da-dad8-43c0-bf0a-369d9510e9c3",
   "metadata": {},
   "outputs": [],
   "source": [
    "\"\"\"Q.2\n",
    "Mean                                                                           Median                                                                                               Mode\n",
    "1.The average taken of given observations is called Mean.        1.The middle number in a given set of observations is called Median.                                    1.The most frequently occurred number in a given set of observations is called mode.\n",
    "2.Add up all the numbers and divide by the total number of terms.2.Place all the numbers in ascending or descending order                                                2. the mode is derived when a number has frequency occurred in a series\n",
    "3.Once the above step is finished, what we get is the mean.      3.After arranging everything from smallest to biggest, take out the middle number, which is your median.3.The mode can be one or more than one. It is possible to have no mode at all, as well\n",
    "4.Mean is the arithmetic mean or can be a average.               4.When series have even numbers, median is the simple average of the middle pair of numbers.            4.If there is a unique data set, there is no mode at all.\n",
    "\n",
    "The mean, median, and mode are all measures of central tendency, which means they provide information about the central or typical value of a dataset. However, they have different characteristics and uses:\n",
    "\n",
    "Mean:\n",
    "The mean is the average of all the values in a dataset.\n",
    "It's calculated by adding up all the values and then dividing by the total number of values\n",
    "The mean can be affected by outliers (extreme values) in the dataset, as it takes into account all values equally.\n",
    "It's useful when the data is relatively evenly distributed and there are no significant outliers.\n",
    "\n",
    "Median:\n",
    "The median is the middle value in a dataset when the values are arranged in order.\n",
    "It's not influenced by outliers as much as the mean, making it a more robust measure of central tendency.\n",
    "It's particularly useful when the data contains outliers or when the distribution is skewed (asymmetric).\n",
    "To find the median, you arrange the data in order and pick the middle value. If there's an even number of values, you take the average of the two middle values.\n",
    "\n",
    "Mode:\n",
    "The mode is the value that appears most frequently in a dataset.\n",
    "It's helpful for identifying the most common value or category in a dataset.\n",
    "Unlike the mean and median, the mode can be applied to categorical data as well as numerical data.\n",
    "A dataset can have multiple modes (multimodal) or no mode at all if all values have the same frequency."
   ]
  },
  {
   "cell_type": "code",
   "execution_count": 9,
   "id": "2380b501-9edf-4ff4-8b41-8f24a8a84164",
   "metadata": {},
   "outputs": [
    {
     "name": "stdout",
     "output_type": "stream",
     "text": [
      "mean 0    177.01875\n",
      "dtype: float64\n",
      "median 0    177.0\n",
      "dtype: float64\n",
      "mode        0\n",
      "0  177.0\n",
      "1  178.0\n"
     ]
    }
   ],
   "source": [
    "#Q.3\n",
    "import pandas as pd\n",
    "df=pd.DataFrame(height)\n",
    "height=[178,177,176,177,178.2,178,175,179,180,175,178.9,176.2,177,172.5,178,176.5]\n",
    "mean=df.mean() \n",
    "print(\"mean\",mean)  # calculate mean of height data\n",
    "median=df.median()\n",
    "print(\"median\",median)  # calculate median of height data\n",
    "mode=df.mode()\n",
    "print(\"mode\",mode)       # calculate mode of height data"
   ]
  },
  {
   "cell_type": "code",
   "execution_count": 14,
   "id": "34a0df15-65e5-4266-b672-3cdf274cf89f",
   "metadata": {
    "tags": []
   },
   "outputs": [
    {
     "data": {
      "text/plain": [
       "0    1.847239\n",
       "dtype: float64"
      ]
     },
     "execution_count": 14,
     "metadata": {},
     "output_type": "execute_result"
    }
   ],
   "source": [
    "# Q.4\n",
    "height=[178,177,176,177,178.2,178,175,179,180,175,178.9,176.2,177,172.5,178,176.5]\n",
    "df.std() # calculate standard deviation of height data "
   ]
  },
  {
   "cell_type": "code",
   "execution_count": null,
   "id": "3eb87a32-37a2-4c02-9b91-9aac91593310",
   "metadata": {},
   "outputs": [],
   "source": [
    "\"\"\"Q.5\n",
    "Measures of dispersion, such as range, variance, and standard deviation, are used to describe how spread out or varied the values in a dataset are. They provide insights into the variability or dispersion of the data points from the central tendency (mean, median, etc.). Here's an explanation of each measure and an example:\n",
    "\n",
    "Range:\n",
    "The range is the simplest measure of dispersion and is the difference between the maximum and minimum values in a dataset.\n",
    "It provides a rough idea of how spread out the data is, but it can be sensitive to outliers.\n",
    "Example: Consider a dataset of exam scores: {60, 70, 75, 80, 90}. The range would be 90 - 60 = 30, indicating a spread of 30 points between the lowest and highest scores.\n",
    "\n",
    "Variance:\n",
    "Variance quantifies the average squared difference between each data point and the mean of the dataset.\n",
    "It gives a more comprehensive measure of dispersion, taking into account all values in the dataset.\n",
    "Example: Using the same exam scores, the mean is (60 + 70 + 75 + 80 + 90) / 5 = 75. The squared differences from the mean are (15^2, 5^2, 0^2, 5^2, 15^2). The variance is the average of these squared differences, which is (15^2 + 5^2 + 0^2 + 5^2 + 15^2) / 5 ≈ 50.\n",
    "\n",
    "Standard Deviation:\n",
    "The standard deviation is the square root of the variance and is often preferred because it's in the same units as the original data.\n",
    "It provides a measure of dispersion that is easier to interpret than variance.\n",
    "Example: Given the variance of approximately 50, the standard deviation would be the square root of 50, which is around 7.07."
   ]
  },
  {
   "cell_type": "code",
   "execution_count": null,
   "id": "b08cf382-fde4-429b-b60c-667f34285eda",
   "metadata": {},
   "outputs": [],
   "source": [
    "\"\"\"Q.6\n",
    "A Venn diagram is a graphical representation used to show the relationships between sets. It consists of overlapping circles (or other closed shapes) that represent different sets, and the areas of overlap between these circles represent the intersections or common elements between the sets.\n",
    "Venn diagrams are commonly used to illustrate concepts in set theory, logic, and probability. They help visualize how different sets relate to each other and can show elements that are unique to specific sets as well as elements that are shared between sets."
   ]
  },
  {
   "cell_type": "code",
   "execution_count": null,
   "id": "f36673ac-daaf-4e3a-b8f3-045e8651e014",
   "metadata": {},
   "outputs": [],
   "source": [
    "\"\"\"Q.7\n",
    "A=(2,3,4,5,6,7)\n",
    "B=(0,2,6,8,10)\n",
    "(i) A intersection B = (2,6)\n",
    "(ii) A union B = (0,2,3,4,5,6,7,8,10)"
   ]
  },
  {
   "cell_type": "code",
   "execution_count": null,
   "id": "4eaed504-80b1-4e8b-8aeb-0e13c90b9a1a",
   "metadata": {},
   "outputs": [],
   "source": [
    "\"\"\"Q.8\n",
    "Skewness in data refers to the asymmetry or lack of symmetry in the distribution of values within a dataset. \n",
    "In other words, it indicates whether the data is skewed or distorted towards one side. Skewness is an important characteristic to consider when analyzing data, as it provides insights into the underlying distribution and can influence the choice of appropriate statistical methods.\n",
    "Skewness can be quantified using statistical measures such as the skewness coefficient. A positive skewness coefficient indicates positive skew, while a negative skewness coefficient indicates negative skew. A skewness coefficient of approximately zero suggests a symmetrical distribution.\n",
    "Understanding skewness is important when selecting appropriate statistical techniques for data analysis. Skewed data might require special handling or transformation to ensure that statistical assumptions are met and accurate interpretations are made. \n",
    "For instance, skewed data might lead to biased results if not appropriately addressed, and transformations like logarithmic or power transformations might be applied to normalize the distribution."
   ]
  },
  {
   "cell_type": "code",
   "execution_count": null,
   "id": "95a92475-24f2-40cd-a170-9a6ab1c4713d",
   "metadata": {},
   "outputs": [],
   "source": [
    "\"\"\"Q.9\n",
    "In a right-skewed distribution, also known as positively skewed distribution, the tail of the distribution extends towards the right side. This means that there are relatively few larger values that pull the mean in the direction of the tail. In a right-skewed distribution:\n",
    "The mean (average) will typically be greater than the median.\n",
    "The median will be closer to the left side of the distribution, where the majority of the data is concentrated."
   ]
  },
  {
   "cell_type": "code",
   "execution_count": null,
   "id": "4f7aa0c4-e2f3-481c-8e58-965a420af3b6",
   "metadata": {},
   "outputs": [],
   "source": [
    "\"\"\"Q.10\n",
    "Covariance and correlation are both measures used in statistics to quantify the relationship between two variables. However, they have different interpretations and properties, and they serve slightly different purposes in analyzing relationships between variables.\n",
    "\n",
    "Covariance:\n",
    "Covariance measures the extent to which two variables change together. It indicates the direction of the linear relationship between the variables (positive or negative) and the extent of their variation from their respective means.\n",
    "A positive covariance suggests that when one variable increases, the other variable tends to increase as well. A negative covariance suggests that as one variable increases, the other tends to decrease.\n",
    "However, the magnitude of covariance is not standardized, making it difficult to compare the strength of relationships across different datasets.\n",
    "\n",
    "Correlation:\n",
    "Correlation is a standardized measure that quantifies the strength and direction of the linear relationship between two variables. It ranges between -1 and 1.\n",
    "A correlation coefficient of +1 indicates a perfect positive linear relationship, -1 indicates a perfect negative linear relationship, and 0 indicates no linear relationship.\n",
    "Correlation is more interpretable and comparable than covariance, as it's normalized and not affected by the scales of the variables. It allows for a better assessment of how closely the variables are related, regardless of the units they are measured in.\n",
    "\n",
    "These measures are used in statistical analysis:\n",
    "Both covariance and correlation are used to understand how two variables are related, which is crucial in various fields like economics, finance, science, and social sciences.\n",
    "Covariance and correlation help in identifying patterns, dependencies, and associations between variables, which can lead to insights for decision-making, modeling, and predictions.\n",
    "Correlation is often preferred over covariance when comparing relationships across datasets with different units of measurement, as it standardizes the measure.\n",
    "Correlation is used extensively in regression analysis to determine the strength and direction of the linear relationship between the dependent and independent variables.\n",
    "In finance, correlation is used to understand how different assets move in relation to each other, aiding in portfolio diversification."
   ]
  },
  {
   "cell_type": "code",
   "execution_count": null,
   "id": "cb6e6c79-08c4-43d8-af0e-c715e197efd3",
   "metadata": {},
   "outputs": [],
   "source": [
    "\"\"\"Q.11\n",
    "The formula for calculating the sample mean is:\n",
    "Sample Mean (x̄) = (Sum of all individual values) / (Number of values in the dataset)\n",
    "Suppose you have the following dataset of exam scores: 85, 90, 78, 92, 88.\n",
    "\n",
    "Step 1: Add up all the individual values:\n",
    "85 + 90 + 78 + 92 + 88 = 433\n",
    "\n",
    "Step 2: Count the number of values in the dataset:\n",
    "There are 5 values in the dataset.\n",
    "\n",
    "Step 3: Calculate the sample mean:\n",
    "Sample Mean (x̄) = 433 / 5 = 86.6\n",
    "\n",
    "So, the sample mean for this dataset of exam scores is 86.6"
   ]
  },
  {
   "cell_type": "code",
   "execution_count": 4,
   "id": "0c89e481-71c2-42d3-86ac-d99118874a32",
   "metadata": {
    "tags": []
   },
   "outputs": [
    {
     "data": {
      "text/plain": [
       "0    86.6\n",
       "dtype: float64"
      ]
     },
     "execution_count": 4,
     "metadata": {},
     "output_type": "execute_result"
    }
   ],
   "source": [
    "import pandas as pd\n",
    "marks=[85,90, 78, 92, 88]\n",
    "df=pd.DataFrame(marks)\n",
    "df.mean() # we can find mean using pandas mean function"
   ]
  },
  {
   "cell_type": "code",
   "execution_count": null,
   "id": "814a58ba-6d6c-4031-9174-16d5926246b8",
   "metadata": {},
   "outputs": [],
   "source": [
    "\"\"\"Q.12\n",
    "In a normal distribution, which is also known as a Gaussian distribution or bell curve, there is a specific relationship between its measures of central tendency: the mean, median, and mode.\n",
    "\n",
    "Mean:\n",
    "The mean (average) of a normal distribution is located at the center of the distribution.\n",
    "It is equal to the value of the median and the mode in a perfectly symmetrical normal distribution.\n",
    "\n",
    "Median:\n",
    "The median of a normal distribution is also located at the center of the distribution, exactly where the mean is.\n",
    "In a symmetrical normal distribution, the median is equal to the mean, making them coincide.\n",
    "\n",
    "Mode:\n",
    "In a normal distribution, the mode (the most frequent value) is also the same as the mean and median.\n",
    "Every point on the distribution curve has the same frequency, so there is no single mode, but rather an infinite number of modes all along the curve."
   ]
  },
  {
   "cell_type": "code",
   "execution_count": null,
   "id": "4c0e7eb5-1c79-4b78-99bf-b8f1777afaff",
   "metadata": {},
   "outputs": [],
   "source": [
    "\"\"\"Q.13\n",
    "Both covariance and correlation measure the relationship between two variables, covariance is not standardized and depends on the scales of the variables, whereas correlation is standardized and provides a more interpretable measure of the strength and direction of the linear relationship. \n",
    "Correlation is generally preferred when comparing relationships between variables in different contexts or datasets."
   ]
  },
  {
   "cell_type": "code",
   "execution_count": null,
   "id": "1db53502-cede-4d52-a878-c09643de5fd5",
   "metadata": {},
   "outputs": [],
   "source": [
    "\"\"\"Q.14\n",
    "Outliers can significantly affect measures of central tendency and dispersion in a dataset. An outlier is a data point that is significantly different from the rest of the data and can distort the overall picture of the distribution. Here's how outliers impact these measures, along with an example:\n",
    "\n",
    "Measures of Central Tendency:\n",
    "\n",
    "Outliers can greatly influence the mean (average) of a dataset. Since the mean is calculated by summing all values and then dividing by the total number of values, a single outlier with an extremely high or low value can pull the mean in that direction.\n",
    "The median, on the other hand, is less sensitive to outliers. It's the middle value in an ordered dataset, so an outlier has less impact on the median if it's far from the center.\n",
    "The mode, like the median, is also less influenced by outliers because it represents the most frequent value, which might not be affected by one or a few extreme values.\n",
    "\n",
    "Measures of Dispersion:\n",
    "\n",
    "Outliers can significantly affect measures of dispersion like range, variance, and standard deviation. Since these measures take into account the distance between values and their central tendency (mean or median), extreme values can lead to larger ranges, variances, and standard deviations.\n",
    "The impact is particularly pronounced in the range, which is the difference between the maximum and minimum values. A single outlier can greatly expand the range.\n",
    "Variance and standard deviation are also sensitive to outliers, as these measures incorporate the squared differences between each value and the central tendency. Outliers with large deviations can lead to increased variance and standard deviation."
   ]
  },
  {
   "cell_type": "code",
   "execution_count": 33,
   "id": "f252719b-47cd-41d4-a0dc-18008e0171fb",
   "metadata": {},
   "outputs": [],
   "source": [
    "import pandas as pd\n",
    "ages=[23,25,34,39,40,38]\n",
    "df1=pd.DataFrame(ages)\n",
    "new_ages=[23,25,34,39,40,38,500]\n",
    "df2=pd.DataFrame(new_ages)"
   ]
  },
  {
   "cell_type": "code",
   "execution_count": 34,
   "id": "03811774-e861-497f-aa03-3d84575f95a8",
   "metadata": {
    "tags": []
   },
   "outputs": [
    {
     "data": {
      "text/plain": [
       "0    33.166667\n",
       "dtype: float64"
      ]
     },
     "execution_count": 34,
     "metadata": {},
     "output_type": "execute_result"
    }
   ],
   "source": [
    "df1.mean()"
   ]
  },
  {
   "cell_type": "code",
   "execution_count": 30,
   "id": "51fe41c4-d8aa-4a92-80b5-1b9158f790d7",
   "metadata": {
    "tags": []
   },
   "outputs": [
    {
     "data": {
      "text/plain": [
       "0    99.857143\n",
       "dtype: float64"
      ]
     },
     "execution_count": 30,
     "metadata": {},
     "output_type": "execute_result"
    }
   ],
   "source": [
    "df2.mean()"
   ]
  },
  {
   "cell_type": "code",
   "execution_count": 31,
   "id": "495f201a-4274-47a5-91d0-b88771283662",
   "metadata": {
    "tags": []
   },
   "outputs": [
    {
     "data": {
      "text/plain": [
       "0    36.0\n",
       "dtype: float64"
      ]
     },
     "execution_count": 31,
     "metadata": {},
     "output_type": "execute_result"
    }
   ],
   "source": [
    "df1.median()"
   ]
  },
  {
   "cell_type": "code",
   "execution_count": 32,
   "id": "a3dae3e1-b223-4bc9-85b0-b7e1733c4424",
   "metadata": {
    "tags": []
   },
   "outputs": [
    {
     "data": {
      "text/plain": [
       "0    38.0\n",
       "dtype: float64"
      ]
     },
     "execution_count": 32,
     "metadata": {},
     "output_type": "execute_result"
    }
   ],
   "source": [
    "df2.median()"
   ]
  },
  {
   "cell_type": "code",
   "execution_count": 35,
   "id": "520707bc-5650-40ec-9022-e75436f59bb0",
   "metadata": {
    "tags": []
   },
   "outputs": [
    {
     "data": {
      "text/html": [
       "<div>\n",
       "<style scoped>\n",
       "    .dataframe tbody tr th:only-of-type {\n",
       "        vertical-align: middle;\n",
       "    }\n",
       "\n",
       "    .dataframe tbody tr th {\n",
       "        vertical-align: top;\n",
       "    }\n",
       "\n",
       "    .dataframe thead th {\n",
       "        text-align: right;\n",
       "    }\n",
       "</style>\n",
       "<table border=\"1\" class=\"dataframe\">\n",
       "  <thead>\n",
       "    <tr style=\"text-align: right;\">\n",
       "      <th></th>\n",
       "      <th>0</th>\n",
       "    </tr>\n",
       "  </thead>\n",
       "  <tbody>\n",
       "    <tr>\n",
       "      <th>0</th>\n",
       "      <td>23</td>\n",
       "    </tr>\n",
       "    <tr>\n",
       "      <th>1</th>\n",
       "      <td>25</td>\n",
       "    </tr>\n",
       "    <tr>\n",
       "      <th>2</th>\n",
       "      <td>34</td>\n",
       "    </tr>\n",
       "    <tr>\n",
       "      <th>3</th>\n",
       "      <td>38</td>\n",
       "    </tr>\n",
       "    <tr>\n",
       "      <th>4</th>\n",
       "      <td>39</td>\n",
       "    </tr>\n",
       "    <tr>\n",
       "      <th>5</th>\n",
       "      <td>40</td>\n",
       "    </tr>\n",
       "  </tbody>\n",
       "</table>\n",
       "</div>"
      ],
      "text/plain": [
       "    0\n",
       "0  23\n",
       "1  25\n",
       "2  34\n",
       "3  38\n",
       "4  39\n",
       "5  40"
      ]
     },
     "execution_count": 35,
     "metadata": {},
     "output_type": "execute_result"
    }
   ],
   "source": [
    "df1.mode()"
   ]
  },
  {
   "cell_type": "code",
   "execution_count": 36,
   "id": "9fb3d33b-3abf-48e2-9335-010efbd30843",
   "metadata": {
    "tags": []
   },
   "outputs": [
    {
     "data": {
      "text/html": [
       "<div>\n",
       "<style scoped>\n",
       "    .dataframe tbody tr th:only-of-type {\n",
       "        vertical-align: middle;\n",
       "    }\n",
       "\n",
       "    .dataframe tbody tr th {\n",
       "        vertical-align: top;\n",
       "    }\n",
       "\n",
       "    .dataframe thead th {\n",
       "        text-align: right;\n",
       "    }\n",
       "</style>\n",
       "<table border=\"1\" class=\"dataframe\">\n",
       "  <thead>\n",
       "    <tr style=\"text-align: right;\">\n",
       "      <th></th>\n",
       "      <th>0</th>\n",
       "    </tr>\n",
       "  </thead>\n",
       "  <tbody>\n",
       "    <tr>\n",
       "      <th>0</th>\n",
       "      <td>23</td>\n",
       "    </tr>\n",
       "    <tr>\n",
       "      <th>1</th>\n",
       "      <td>25</td>\n",
       "    </tr>\n",
       "    <tr>\n",
       "      <th>2</th>\n",
       "      <td>34</td>\n",
       "    </tr>\n",
       "    <tr>\n",
       "      <th>3</th>\n",
       "      <td>38</td>\n",
       "    </tr>\n",
       "    <tr>\n",
       "      <th>4</th>\n",
       "      <td>39</td>\n",
       "    </tr>\n",
       "    <tr>\n",
       "      <th>5</th>\n",
       "      <td>40</td>\n",
       "    </tr>\n",
       "    <tr>\n",
       "      <th>6</th>\n",
       "      <td>500</td>\n",
       "    </tr>\n",
       "  </tbody>\n",
       "</table>\n",
       "</div>"
      ],
      "text/plain": [
       "     0\n",
       "0   23\n",
       "1   25\n",
       "2   34\n",
       "3   38\n",
       "4   39\n",
       "5   40\n",
       "6  500"
      ]
     },
     "execution_count": 36,
     "metadata": {},
     "output_type": "execute_result"
    }
   ],
   "source": [
    "df2.mode()"
   ]
  },
  {
   "cell_type": "code",
   "execution_count": 37,
   "id": "2b4f731f-3d98-44e1-8fa9-5acf0c778679",
   "metadata": {
    "tags": []
   },
   "outputs": [
    {
     "data": {
      "text/plain": [
       "0    54.966667\n",
       "dtype: float64"
      ]
     },
     "execution_count": 37,
     "metadata": {},
     "output_type": "execute_result"
    }
   ],
   "source": [
    "df1.var()"
   ]
  },
  {
   "cell_type": "code",
   "execution_count": 38,
   "id": "63f16562-901e-45db-a176-c8bf4877b0f5",
   "metadata": {
    "tags": []
   },
   "outputs": [
    {
     "data": {
      "text/plain": [
       "0    31179.142857\n",
       "dtype: float64"
      ]
     },
     "execution_count": 38,
     "metadata": {},
     "output_type": "execute_result"
    }
   ],
   "source": [
    "df2.var()"
   ]
  },
  {
   "cell_type": "code",
   "execution_count": 39,
   "id": "8c86ce90-dd22-4010-8a44-83a34a274645",
   "metadata": {
    "tags": []
   },
   "outputs": [
    {
     "data": {
      "text/plain": [
       "0    7.413951\n",
       "dtype: float64"
      ]
     },
     "execution_count": 39,
     "metadata": {},
     "output_type": "execute_result"
    }
   ],
   "source": [
    "df1.std()"
   ]
  },
  {
   "cell_type": "code",
   "execution_count": 40,
   "id": "96127172-dd65-44c8-8d37-c15cfbde6308",
   "metadata": {
    "tags": []
   },
   "outputs": [
    {
     "data": {
      "text/plain": [
       "0    176.576167\n",
       "dtype: float64"
      ]
     },
     "execution_count": 40,
     "metadata": {},
     "output_type": "execute_result"
    }
   ],
   "source": [
    "df2.std()"
   ]
  },
  {
   "cell_type": "code",
   "execution_count": 47,
   "id": "89ad041c-9f38-4140-922b-17492b17edd8",
   "metadata": {
    "tags": []
   },
   "outputs": [],
   "source": [
    "range1=df1.max()-df1.min()"
   ]
  },
  {
   "cell_type": "code",
   "execution_count": 48,
   "id": "7e284a56-171f-4067-8ea6-405146eaf251",
   "metadata": {
    "tags": []
   },
   "outputs": [
    {
     "data": {
      "text/plain": [
       "0    17\n",
       "dtype: int64"
      ]
     },
     "execution_count": 48,
     "metadata": {},
     "output_type": "execute_result"
    }
   ],
   "source": [
    "range1"
   ]
  },
  {
   "cell_type": "code",
   "execution_count": 49,
   "id": "33f2a18f-e43d-4348-ac1d-706df6105bc9",
   "metadata": {
    "tags": []
   },
   "outputs": [],
   "source": [
    "range2=df2.max()-df2.min()"
   ]
  },
  {
   "cell_type": "code",
   "execution_count": 50,
   "id": "ff896a9d-fb93-4909-9ff6-fbd1e15cda63",
   "metadata": {
    "tags": []
   },
   "outputs": [
    {
     "data": {
      "text/plain": [
       "0    477\n",
       "dtype: int64"
      ]
     },
     "execution_count": 50,
     "metadata": {},
     "output_type": "execute_result"
    }
   ],
   "source": [
    "range2"
   ]
  },
  {
   "cell_type": "code",
   "execution_count": null,
   "id": "0ce84951-1266-4640-a713-02865e36909b",
   "metadata": {},
   "outputs": [],
   "source": [
    "\"\"\" With the above results it is concluded that Outliers increases the value of: \n",
    "Mean from 33.166667 to 99.857143\n",
    "Variance from 54.966667 to 31179.142857\n",
    "Standard deviation from 7.413951 to 176.576167\n",
    "Range from 17 to 477\n",
    "There is median\n"
   ]
  }
 ],
 "metadata": {
  "kernelspec": {
   "display_name": "Python 3 (ipykernel)",
   "language": "python",
   "name": "python3"
  },
  "language_info": {
   "codemirror_mode": {
    "name": "ipython",
    "version": 3
   },
   "file_extension": ".py",
   "mimetype": "text/x-python",
   "name": "python",
   "nbconvert_exporter": "python",
   "pygments_lexer": "ipython3",
   "version": "3.11.3"
  }
 },
 "nbformat": 4,
 "nbformat_minor": 5
}
